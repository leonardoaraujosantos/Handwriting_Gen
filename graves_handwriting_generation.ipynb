{
 "cells": [
  {
   "cell_type": "markdown",
   "metadata": {},
   "source": [
    "# Handwriting Generaton with Recurrent Neural Networks and Mixture of Gaussians\n",
    "\n",
    "*Thomas Viehmann* <tv@learnapparat.de>\n",
    "\n",
    "This is a PyTorch implementation of the handwriting generation in Alex Graves' classic paper [Generating Sequences with Recurrent Neural Networks](https://arxiv.org/abs/1308.0850).\n",
    "In addition to replicating the model, I wanted to explore recreating the visualisations that Graves uses.\n",
    "\n",
    "I also studied [Alexandre de Brébisson's Theano implementation](https://github.com/adbrebs/handwriting), but all errors are my own.\n",
    "\n",
    "I can highly recommend the original paper, I enjoyed reading it a lot.\n",
    "\n",
    "**Note:** This notebook is written using PyTorch 0.4 (master at the time of writing).\n",
    "\n",
    "At popular request, I have you can get [pretrained model weights](https://github.com/t-vi/pytorch-tvmisc/releases/download/2018-03-13/graves_handwriting_generation_2018-03-13-02-45epoch_49.hd5). Use them with the load_from_hdf5 code below. They are not particularly tweaked but just the ones that I got when I ran the notebook for the outputs you see below.\n",
    "\n",
    "## Overview\n",
    "Besically we have the following architecture (shown in the diagram):\n",
    "- The triplets of relative movements in $x$ and $y$ direction and $pen$ (note this is different to Graves' notation, who uses $x$ for the triple) and a (attention-) mixture $w$ of one-hot encoded characters are fed into an **LSTM**, producing a hidden state $h$.\n",
    "- The **Attention** takes the sequence of one-hot encoded characters ($c$ in Graves) and the hidden state $h$ to weight $c$ and give a new mixture $w$ of $c$ items. The attention component remembers the location of the attention modes.\n",
    "- A **Mixture Density Network** (see [a short notebook here](https://github.com/t-vi/pytorch-tvmisc/blob/master/misc/Mixture_Density_Network_Gaussian_1d.ipynb)) takes the LSTM output $h$ and the attention-modulated character information $w$ to compute a Gaussian density mixture for the coordinates and a Bernoulli parameter for pen up/pen down. In training the negative log likelihood of the actual movement and pen is used, and for prediction, movement and pen are sampled.\n",
    "- A module wraps the three components and steps through the sequence.\n",
    "\n",
    "(I honestly don't know how to make those esges between timesteps closer...)\n"
   ]
  },
  {
   "cell_type": "code",
   "execution_count": null,
   "metadata": {
    "cell_id": "310E031C764B4EC1B2A85C6D4173F490"
   },
   "outputs": [],
   "source": [
    "import graphviz\n",
    "g = graphviz.Digraph(graph_attr=dict(size=\"12,12\"))\n",
    "with g.subgraph() as dot:\n",
    "    g.node(\"pts(t-1)\",label=\"(X,Y,Pen)(t-1)\", shape=\"ellipse\", style=\"filled\")\n",
    "    g.node(\"txt\",label=\"Text\", style=\"filled\")\n",
    "    g.node(\"w(t-1)\", style=\"filled\")\n",
    "    g.edge(\"pts(t-1)\",\"txt\", style=\"invis\")\n",
    "    g.edge(\"txt\",\"w(t-1)\", style=\"invis\")\n",
    "for i,timestep in enumerate([\"t\",\"t+1\", \"t+2\"]):\n",
    "    with g.subgraph(name=\"cluster_{}\".format(timestep)) as dot:\n",
    "        dot.attr(label='Step {}'.format(timestep))\n",
    "        dot.attr(sortv=str(i+1))\n",
    "        dot.node(\"LSTM{}\".format(timestep),label=\"LSTM\", shape=\"box\", style=\"rounded\")\n",
    "        dot.node(\"GMM{}\".format(timestep),label=\"Mixture Density\", shape=\"box\", style=\"rounded\")\n",
    "        dot.node(\"ATT{}\".format(timestep),label=\"Attention\", shape=\"box\", style=\"rounded\")\n",
    "        dot.node(\"pts({})\".format(timestep),label=\"(X,Y,Pen)({})\".format(timestep), shape=\"ellipse\", style=\"filled\")\n",
    "        dot.node(\"h({})\".format(timestep), shape=\"ellipse\", style=\"filled\")\n",
    "        dot.node(\"w({})\".format(timestep), shape=\"ellipse\", style=\"filled\")\n",
    "        dot.edge(\"h({})\".format(timestep), \"ATT{}\".format(timestep))\n",
    "        dot.edge(\"LSTM{}\".format(timestep),\"h({})\".format(timestep))\n",
    "        dot.edge(\"h({})\".format(timestep), \"GMM{}\".format(timestep))\n",
    "        dot.edge(\"ATT{}\".format(timestep), \"w({})\".format(timestep))\n",
    "        dot.edge(\"w({})\".format(timestep), \"GMM{}\".format(timestep))\n",
    "        dot.edge(\"GMM{}\".format(timestep), \"pts({})\".format(timestep), style=\"dashed\", label=\"predict\")\n",
    "\n",
    "\n",
    "g.edge(\"pts(t-1)\", \"LSTMt\", constraint=\"false\")\n",
    "g.edge(\"w(t-1)\", \"LSTMt\", constraint=\"false\")\n",
    "g.edge(\"txt\", \"ATTt\", constraint=\"false\")\n",
    "g.edge(\"txt\", \"ATTt+1\", constraint=\"false\")\n",
    "g.edge(\"txt\", \"ATTt+2\", constraint=\"false\")\n",
    "g.edge(\"w(t)\",\"LSTMt+1\",constraint=\"false\")\n",
    "g.edge(\"w(t+1)\",\"LSTMt+2\",constraint=\"false\")\n",
    "g.edge(\"pts(t)\",\"LSTMt+1\",constraint=\"false\")\n",
    "g.edge(\"pts(t+1)\",\"LSTMt+2\",constraint=\"false\")\n",
    "g"
   ]
  },
  {
   "cell_type": "markdown",
   "metadata": {
    "cell_id": "310E031C764B4EC1B2A85C6D4173F490"
   },
   "source": [
    "First let us import something."
   ]
  },
  {
   "cell_type": "code",
   "execution_count": 1,
   "metadata": {
    "cell_id": "310E031C764B4EC1B2A85C6D4173F490"
   },
   "outputs": [
    {
     "data": {
      "text/plain": [
       "<torch._C.Generator at 0x7f2cdcc1a610>"
      ]
     },
     "execution_count": 1,
     "metadata": {},
     "output_type": "execute_result"
    }
   ],
   "source": [
    "import os\n",
    "import sys\n",
    "import pickle\n",
    "import time\n",
    "import collections\n",
    "import numpy\n",
    "import IPython\n",
    "import cairocffi as cairo\n",
    "from matplotlib import pyplot\n",
    "import matplotlib\n",
    "import torchtext\n",
    "import tqdm\n",
    "import glob\n",
    "import lxml.etree\n",
    "%matplotlib inline\n",
    "import torch\n",
    "torch.manual_seed(42)"
   ]
  },
  {
   "cell_type": "markdown",
   "metadata": {},
   "source": [
    "## The dataset\n",
    "\n",
    "The [IAM Online Handwriting Database](http://www.fki.inf.unibe.ch/databases/iam-online-document-database/iam-online-document-database) is provided by [E. Indermühle, M. Liwicki, and H. Bunke: IAMonDo-database: an Online Handwritten Document Database with Non-uniform Contents. Proc 9th Int. Workshop on Document Analysis Systems, 2010.](http://www.fki.inf.unibe.ch/databases/iam-online-document-database/das10db.pdf).\n",
    "\n",
    "The set is split into a training and three test sets, the latter being labeled *v*, *f*, and *t*. Following Graves, Section 4, we use the *v* set as validation and combine the other three for training.\n",
    "\n",
    "I used to have a separate preprocessing notebook, but preprocessing takes less than 30 seconds for me, so I just moved it here..."
   ]
  },
  {
   "cell_type": "code",
   "execution_count": 2,
   "metadata": {},
   "outputs": [],
   "source": [
    "iam_dir = \"data/iam/\"\n",
    "orig_trainset = [l.strip() for l in open(os.path.join(iam_dir, \"trainset.txt\"))]\n",
    "orig_testset_v = [l.strip() for l in open(os.path.join(iam_dir, \"testset_v.txt\"))] # smallest\n",
    "orig_testset_f = [l.strip() for l in open(os.path.join(iam_dir, \"testset_f.txt\"))]\n",
    "orig_testset_t = [l.strip() for l in open(os.path.join(iam_dir, \"testset_t.txt\"))]\n",
    "\n",
    "trainset = orig_trainset + orig_testset_f + orig_testset_t\n",
    "validset = orig_testset_v\n"
   ]
  },
  {
   "cell_type": "markdown",
   "metadata": {},
   "source": [
    "The dataset contains ascii files with the text and xml-based representations of the strokes."
   ]
  },
  {
   "cell_type": "code",
   "execution_count": 5,
   "metadata": {},
   "outputs": [],
   "source": [
    "blacklist = {\"a08-551z-08\",\"a08-551z-09\"} # these seem broken\n",
    "\n",
    "def process_set(theset):\n",
    "    txts = {}\n",
    "    for i,n in enumerate(theset):\n",
    "        txtfn = \"data/iam/ascii/{}/{}/{}.txt\".format(n[:3], n[:7], n)\n",
    "        for j,t in enumerate(open(txtfn).read().split(\"CSR:\")[1].strip().split(\"\\n\")):\n",
    "            txts['{}-{:02d}'.format(n,j+1)] = t\n",
    "    samples = {}\n",
    "    for i,n in tqdm.tqdm(enumerate(theset),total=len(theset)):\n",
    "        globmask = \"data/iam/lineStrokes/{}/{}/{}-*.xml\".format(n[:3], n[:7], n)\n",
    "        for fn in glob.glob(globmask):\n",
    "            key = (os.path.splitext(os.path.basename(fn))[0])\n",
    "            if key not in blacklist:\n",
    "                root = lxml.etree.parse(fn).getroot()\n",
    "                strokes_list = []\n",
    "                for s in root.find(\"StrokeSet\").findall(\"Stroke\"):\n",
    "                    pts = torch.FloatTensor([(float(p.attrib['x']), float(p.attrib['y']),0.0) for p in s.findall(\"Point\")])\n",
    "                    pts[-1,-1] = 1\n",
    "                    strokes_list.append(pts)\n",
    "                strokes = torch.cat(strokes_list, dim=0)\n",
    "                (min_x,min_y),_ = torch.min(strokes[:,:2],dim=0)\n",
    "                (max_x,max_y),_ = torch.max(strokes[:,:2],dim=0)\n",
    "                rel_strokes = torch.cat([torch.zeros(1,3),\n",
    "                                         torch.cat([strokes[1:,:2]-strokes[:-1,:2],strokes[1:,2:]],dim=1)], dim=0)\n",
    "                if rel_strokes.abs().max()<1000: # we assume that such large moves are broken\n",
    "                    samples[key] = {\"strokes\":strokes_list, \"minmax\":(min_x,min_y,max_x,max_y), \"rel_strokes\":rel_strokes,\n",
    "                                    \"txt\": txts[key]}\n",
    "    return samples\n"
   ]
  },
  {
   "cell_type": "code",
   "execution_count": 6,
   "metadata": {},
   "outputs": [
    {
     "name": "stderr",
     "output_type": "stream",
     "text": [
      "100%|██████████| 1535/1535 [00:48<00:00, 31.60it/s]\n",
      "100%|██████████| 192/192 [00:06<00:00, 29.22it/s]\n"
     ]
    }
   ],
   "source": [
    "training_samples = process_set(trainset)\n",
    "#torch.save(training_samples, \"preprocessed-training.pt\")\n",
    "val_samples = process_set(validset)\n",
    "#torch.save(val_samples, \"preprocessed-validation.pt\")\n"
   ]
  },
  {
   "cell_type": "code",
   "execution_count": 7,
   "metadata": {},
   "outputs": [
    {
     "name": "stdout",
     "output_type": "stream",
     "text": [
      "mean tensor([8.1842, 0.1145]) std tensor([40.3660, 37.0441])\n"
     ]
    }
   ],
   "source": [
    "x = torch.cat([d[\"rel_strokes\"] for d in training_samples.values()], dim=0)\n",
    "mean,std = x[:,:2].mean(0),x[:,:2].std(0)\n",
    "print (\"mean\", mean, \"std\", std)"
   ]
  },
  {
   "cell_type": "markdown",
   "metadata": {},
   "source": [
    "We use a torchtext dataset to use our preprocessed IAM online handwriting data."
   ]
  },
  {
   "cell_type": "code",
   "execution_count": 8,
   "metadata": {
    "cell_id": "BB01C85EE70F4A9686266712878C69A9"
   },
   "outputs": [],
   "source": [
    "char_dict = {k:v for v,k in enumerate(' !\"#%&\\'()+,-./0123456789:;?ABCDEFGHIJKLMNOPQRSTUVWXYZ[]abcdefghijklmnopqrstuvwxyz')}\n",
    "inv_char_dict = {v:k for k,v in char_dict.items()}\n",
    "n_chars = len(char_dict)\n",
    "\n",
    "class DS(torchtext.data.Dataset):\n",
    "    def __init__(self, samples, mean, std):\n",
    "        self.myfields = [('txt',torchtext.data.Field(use_vocab=True,tokenize=list, eos_token='<eos>')), \n",
    "                         ('txtn',torchtext.data.Field(use_vocab=False,pad_token=0)), \n",
    "                         ('txtlen',torchtext.data.Field(use_vocab=False)),\n",
    "                         ('txtmask',torchtext.data.Field(use_vocab=False,pad_token=0, dtype=torch.float)),\n",
    "                         ('xs',torchtext.data.Field(use_vocab=False, pad_token=-1, dtype=torch.float)),\n",
    "                         ('ys',torchtext.data.Field(use_vocab=False, pad_token=-1, dtype=torch.float)),\n",
    "                         ('pen',torchtext.data.Field(use_vocab=False,pad_token=-1)),\n",
    "                         ('ptslen',torchtext.data.Field(use_vocab=False))\n",
    "                        ]\n",
    "        self.coord_mean = mean\n",
    "        self.coord_std  = std\n",
    "        examples = []\n",
    "        for s in samples.values():\n",
    "            txt = [c for c in s[\"txt\"] if c in char_dict]\n",
    "            txtn = torch.LongTensor([char_dict[i] for i in txt])\n",
    "            txtlen = torch.LongTensor([len(txt)])\n",
    "            txtmask = torch.ones(len(txt))\n",
    "            stroke = s['rel_strokes']\n",
    "            xs = stroke[:,0]\n",
    "            ys = stroke[:,1]\n",
    "            pen = stroke[:,2]\n",
    "            ptslen = torch.LongTensor([len(pen)])\n",
    "            if xs.abs().max()<1000 and ys.abs().max()<1000 and len(txt)>=20:\n",
    "                xs = (xs-self.coord_mean[0])/self.coord_std[0]\n",
    "                ys = (ys-self.coord_mean[1])/self.coord_std[1]\n",
    "                examples.append(torchtext.data.Example.fromlist([txt, txtn, txtlen, txtmask,\n",
    "                                                            xs, ys, pen, ptslen\n",
    "                                                            ], self.myfields))        \n",
    "        super(DS, self).__init__(examples, self.myfields)\n",
    "        self.myfields[0][1].build_vocab(self)\n",
    "    def sort_key(self, ex):\n",
    "        return len(ex.txt)\n",
    "    def tensor_to_str(self,t):\n",
    "        return ''.join([self.fields['txt'].vocab.itos[c] for c in t if c >= 3])\n",
    "    def tensor_to_str2(self,t):\n",
    "        return ''.join([inv_char_dict[c] for c in t])\n",
    "\n",
    "train_ds = DS(training_samples, mean, std)\n",
    "val_ds   = DS(val_samples, mean, std)\n",
    "\n"
   ]
  },
  {
   "cell_type": "markdown",
   "metadata": {},
   "source": [
    "Here is both a matplotlib-based and a cairo-based function to display a stroke.\n",
    "The cairo-based function is a lot faster and optionally add random shear and rotation, the matplotlib-based one offers color."
   ]
  },
  {
   "cell_type": "code",
   "execution_count": 9,
   "metadata": {
    "cell_id": "9C2DFE5CE8B645A28C47AAA32ED8CE32"
   },
   "outputs": [],
   "source": [
    "def show_stroke(x, colors=None):   \n",
    "    x= x[:(torch.arange(0,x.size(0))[x[:,2]>-0.0001].size(0))] # only used bits\n",
    "    stroke = (x[:,:2]*train_ds.coord_std.unsqueeze(0)+train_ds.coord_mean.unsqueeze(0)).cumsum(0)\n",
    "    stroke[:,1] *= -1\n",
    "    pen = x[:,2]\n",
    "    xmin,ymin = stroke.min(0)[0]\n",
    "    xmax,ymax = stroke.max(0)[0]\n",
    "    \n",
    "    actions = [matplotlib.path.Path.MOVETO]\n",
    "    coords = []\n",
    "    for c,p in zip(stroke, pen):\n",
    "        if p >=-0.0001:\n",
    "          if p==1 or len(actions)==0:\n",
    "            actions.append(matplotlib.path.Path.MOVETO)\n",
    "          else:\n",
    "            actions.append(matplotlib.path.Path.LINETO)\n",
    "          coords.append((c[0],c[1]))\n",
    "    actions = actions[:-1]\n",
    "    ax = pyplot.gca()\n",
    "    ax.set_xlim(xmin, xmax)\n",
    "    ax.set_ylim(ymin, ymax)\n",
    "\n",
    "    if colors is None:\n",
    "        path = matplotlib.path.Path(coords, actions)\n",
    "        patch = matplotlib.patches.PathPatch(path, facecolor='none')\n",
    "        ax.add_patch(patch)\n",
    "    else:\n",
    "        pos = coords[0]\n",
    "        curpos = pos\n",
    "        for pos,a,col in zip(coords, actions, colors):\n",
    "            if a == matplotlib.path.Path.LINETO:\n",
    "                ax.add_line(matplotlib.lines.Line2D((curpos[0],pos[0]), (curpos[1],pos[1]), axes=ax, color=col))\n",
    "            curpos = pos\n",
    "\n",
    "\n",
    "def stroke_to_image(x, target_size = (1280,64), randomize=False):\n",
    "    stroke = (x[:,:2]*train_ds.coord_std.unsqueeze(0)+train_ds.coord_mean.unsqueeze(0)).cumsum(0)\n",
    "    pen = x[:,2]\n",
    "    if randomize:\n",
    "        shear_prob = 0.5\n",
    "        shear_prec = 4.0\n",
    "        if torch.rand(1)[0] > shear_prob:\n",
    "            shear_sigma = 1/shear_prec**0.5\n",
    "            shear_theta = 0.5*torch.randn(1)    \n",
    "        else:\n",
    "            shear_theta = torch.zeros(1)\n",
    "        rot_prob = 0.5\n",
    "        rot_prec = 4.0\n",
    "        if torch.rand(1)[0] > rot_prob:\n",
    "            rot_sigma = 1/rot_prec**0.5\n",
    "            rot_theta = 0.5*torch.randn(1)    \n",
    "        else:\n",
    "            rot_theta = torch.zeros(1)\n",
    "\n",
    "        (min_x,min_y),_ = torch.min(stroke[:,:2],dim=0)\n",
    "        (max_x,max_y),_ = torch.max(stroke[:,:2],dim=0)\n",
    "        stroke[:,0] -= min_x\n",
    "        stroke[:,1] -= min_y  \n",
    "        min_x, min_y = 0.0,0.0\n",
    "        max_x, max_y = max_x-min_x, max_y-min_y\n",
    "\n",
    "        stroke[:,0] += stroke[:,1]*torch.sin(shear_theta)\n",
    "\n",
    "        stroke[:,0] = stroke[:,0]*torch.cos(rot_theta)+stroke[:,1]*torch.sin(rot_theta)\n",
    "        stroke[:,1] = stroke[:,1]*torch.cos(rot_theta)-stroke[:,0]*torch.sin(rot_theta)\n",
    "\n",
    "    (min_x,min_y),_ = torch.min(stroke[:,:2],dim=0)\n",
    "    (max_x,max_y),_ = torch.max(stroke[:,:2],dim=0)\n",
    "    stroke[:,0] -= min_x\n",
    "    stroke[:,1] -= min_y  \n",
    "    min_x, min_y = 0.0,0.0\n",
    "    max_x, max_y = max_x-min_x, max_y-min_y\n",
    "\n",
    "    factor = min(target_size[0]/max(max_x-min_x,0.001),target_size[1]/max(max_y-min_y,0.001),1)\n",
    "    xmin,ymin = stroke.min(0)[0]\n",
    "    xmax,ymax = stroke.max(0)[0]\n",
    "\n",
    "    imwidth, imheight = int(xmax*factor)+2, int(ymax*factor)+2\n",
    "    surface = cairo.ImageSurface (cairo.FORMAT_A8, imwidth, imheight)\n",
    "    ctx = cairo.Context(surface)\n",
    "\n",
    "    ctx.scale (factor, factor) # Normalizing the canvas\n",
    "    ctx.rectangle (0, 0, xmax+5/factor, ymax+5/factor) # Rectangle(x0, y0, x1, y1)\n",
    "    ctx.set_source_rgba (0.0, 0.0, 0.0, 0.0) # Solid color\n",
    "    ctx.fill ()\n",
    "    next_action = 1\n",
    "    coords = []\n",
    "    for c,p in zip(stroke, pen):\n",
    "        if p >=-0.0001:\n",
    "          if next_action:\n",
    "            ctx.move_to(c[0]+1,c[1]+1)\n",
    "          else:\n",
    "            ctx.line_to(c[0]+1,c[1]+1)\n",
    "          next_action = p>0.5\n",
    "    ctx.set_source_rgba(1.0, 1.0, 1.0, 1.0) # Solid color\n",
    "\n",
    "    \n",
    "    if randomize:\n",
    "        linewidth = (1+torch.rand(1)[0])/factor\n",
    "    else:\n",
    "        linewidth = 2/factor\n",
    "    ctx.set_line_width (linewidth)\n",
    "    ctx.stroke ()\n",
    "\n",
    "    buf = surface.get_data()\n",
    "    data = numpy.ndarray(shape=(imheight, (imwidth+3)//4*4),#(WIDTH+7)//8),\n",
    "                         dtype=numpy.uint8,\n",
    "                         buffer=buf)[:,:imwidth]\n",
    "    data = 1-(data>0)\n",
    "    data = torch.FloatTensor(data)\n",
    "    return data\n"
   ]
  },
  {
   "cell_type": "markdown",
   "metadata": {
    "cell_id": "7FAF0988C7FF480982084244884101F3"
   },
   "source": [
    "Let us see an example of our data:"
   ]
  },
  {
   "cell_type": "code",
   "execution_count": 10,
   "metadata": {
    "cell_id": "449FD1CD6C2D440795EA35A83BF5A100"
   },
   "outputs": [
    {
     "data": {
      "text/plain": [
       "'at Lancaster House despite the crisis which'"
      ]
     },
     "execution_count": 10,
     "metadata": {},
     "output_type": "execute_result"
    },
    {
     "data": {
      "image/png": "[encoded data removed]",
      "text/plain": [
       "<Figure size 720x360 with 1 Axes>"
      ]
     },
     "metadata": {
      "needs_background": "light"
     },
     "output_type": "display_data"
    }
   ],
   "source": [
    "b = train_ds[0]\n",
    "pts = torch.stack([b.xs,b.ys,b.pen.float()],dim=-1)\n",
    "pyplot.figure(figsize=(10,5))\n",
    "pyplot.imshow(stroke_to_image(pts[:b.ptslen[0]].cpu()), cmap=pyplot.cm.gray)\n",
    "''.join(b.txt)\n"
   ]
  },
  {
   "cell_type": "markdown",
   "metadata": {},
   "source": [
    "## The network\n",
    "\n",
    "### Mixture Density Network\n",
    "\n",
    "The mixture density network, described in Graves Section 4.1, consists of a linear layer and parameter transforms in `compute_params`.\n",
    "The parameters are\n",
    "- a vector $\\pi$ with the weights of the mixture components, \n",
    "- vectors (one element per mixture component)`mean_x, mean_y` ($\\mu$ in Graves), `std_x, std_y` ($\\sigma$), and $\\rho$,\n",
    "- a probaility `bernoulli` ($e$ in Graves) of the pen being up (i.e. $1$ means no pen).\n",
    "\n",
    "Then for training (in `forward`), the negative log likelihood is computer. For prediction (`predict`), movement and pen indicator are sampled.\n",
    "In the prediction, we allow for bias ($b$) as in Graves Section 5.4.\n",
    "\n",
    "We found that the training sometimes runs into `NaN` unless we use some regularisation, we do so via a parameter `eps`.\n",
    "This may be due to us using single precision floating point numbers rather than double precision or a too aggressive learning rate.\n",
    "We also see below that we do not seem to achieve the deterministic outputs when the bias is high.\n"
   ]
  },
  {
   "cell_type": "code",
   "execution_count": 11,
   "metadata": {},
   "outputs": [],
   "source": [
    "class MixtureGaussians2DandPen(torch.nn.Module):\n",
    "    \"\"\"Gaussian mixture module as in Graves Section 4.1\"\"\"\n",
    "    def __init__(self, n_inputs, n_mixture_components, eps=1e-6):\n",
    "        # n_inputs = dimension N of h^n_t in Graves eq. (17)\n",
    "        # n_mixture_components = number M of mixture components in Graves eq. (16)\n",
    "        super().__init__()\n",
    "        self.n_mixture_components = n_mixture_components\n",
    "        self.eps = eps\n",
    "        # linear layer as in Graves eq. (17)\n",
    "        # ((proportions, m_x, m_y, s_x, s_y, rho)*n_mixture_components, pen)\n",
    "        self.linear = torch.nn.Linear(n_inputs, n_mixture_components *6 + 1) \n",
    "\n",
    "    def compute_parameters(self, h, bias):\n",
    "        # h: batch x n_inputs\n",
    "        # The output of the input layer is batch x ...\n",
    "        y_hat = self.linear(h)\n",
    "        if y_hat.requires_grad:\n",
    "            y_hat.register_hook(lambda x: x.clamp(min=-100, max=100))\n",
    "        \n",
    "        M = self.n_mixture_components\n",
    "        # note that our ordering within y_hat is different to Graves eq (17)\n",
    "        # we also incorporate the bias b given in Graves eq (61) and (62)\n",
    "        # we have a regularisation self.eps that Graves does not have in the paper\n",
    "        pi = torch.nn.functional.softmax(y_hat[:, :M]*(1 + bias),1) # Graves eq (19)\n",
    "        mean_x = y_hat[:, M:M*2]                                      # Graves eq (20)\n",
    "        mean_y = y_hat[:, M*2:M*3]\n",
    "        std_x = torch.exp(y_hat[:, M*3:M*4] - bias) + self.eps        # Graves eq (21)\n",
    "        std_y = torch.exp(y_hat[:, M*4:M*5] - bias) + self.eps\n",
    "        rho = torch.tanh(y_hat[:, M*5:M*6])                           # Graves eq (22)\n",
    "        rho = rho/(1+self.eps)\n",
    "        bernoulli = torch.sigmoid(y_hat[:, -1])                       # Graves eq (18)\n",
    "        bernoulli = (bernoulli + self.eps) / (1 + 2*self.eps)\n",
    "        #bernoulli = 1/(1+torch.exp(-(1+bias)*((torch.log(bernoulli)-torch.log(1-bernoulli))+3*(1-torch.exp(-bias))))) # this is NOT covered by Graves: Bias in the Bernoulli\n",
    "        return pi, mean_x, mean_y, std_x, std_y, rho, bernoulli\n",
    "\n",
    "    def predict(self, h, bias=0.0):\n",
    "        pi, mean_x, mean_y, std_x, std_y, rho, bernoulli = self.compute_parameters(h, bias)\n",
    "\n",
    "        mode = torch.multinomial(pi.data,1) # choose one mixture component\n",
    "\n",
    "        m_x = mean_x.gather(1, mode).squeeze(1) # data for the chosen mixture component\n",
    "        m_y = mean_y.gather(1, mode).squeeze(1)\n",
    "        s_x = std_x.gather(1, mode).squeeze(1)\n",
    "        s_y = std_y.gather(1, mode).squeeze(1)\n",
    "        r   = rho.gather(1, mode).squeeze(1)\n",
    "\n",
    "        normal = rho.new().resize_((h.size(0), 2)).normal_()\n",
    "        x = normal[:, 0]\n",
    "        y = normal[:, 1]\n",
    "\n",
    "        x_n = (m_x + s_x * x).unsqueeze(-1)\n",
    "        y_n = (m_y + s_y * (x * r + y * (1.-r**2)**0.5)).unsqueeze(-1)\n",
    "\n",
    "        uniform = bernoulli.data.new(h.size(0)).uniform_()\n",
    "        pen = torch.autograd.Variable((bernoulli.data > uniform).float().unsqueeze(-1))\n",
    "\n",
    "        return torch.cat([x_n, y_n, pen], dim=1)\n",
    "\n",
    "    def forward(self, h_seq, mask_seq, tg_seq, hidden_dict=None):\n",
    "        # h_seq: (seq, batch, features),  mask_seq: (seq, batch), tg_seq: (seq, batch, features=3)\n",
    "        batch_size = h_seq.size(1)\n",
    "        h_seq = h_seq.view(-1, h_seq.size(-1))\n",
    "        tg_seq = tg_seq.view(-1, tg_seq.size(-1))\n",
    "        mask_seq = mask_seq.view(-1,)\n",
    "\n",
    "        atensor = next(self.parameters())\n",
    "        bias = torch.zeros((),device=atensor.get_device(), dtype=atensor.dtype)\n",
    "        pi, mean_x, mean_y, std_x, std_y, rho, bernoulli = self.compute_parameters(h_seq, bias)\n",
    "\n",
    "        if hidden_dict is not None:\n",
    "            hidden_dict[\"pi\"].append(pi.data.cpu())\n",
    "            hidden_dict[\"mean_x\"].append(mean_x.data.cpu())\n",
    "            hidden_dict[\"mean_y\"].append(mean_y.data.cpu())\n",
    "            hidden_dict[\"std_x\"].append(std_x.data.cpu())\n",
    "            hidden_dict[\"std_y\"].append(std_y.data.cpu())\n",
    "            hidden_dict[\"rho\"].append(rho.data.cpu())\n",
    "            hidden_dict[\"bernoulli\"].append(bernoulli.data.cpu())\n",
    "\n",
    "        tg_x = tg_seq[:, 0:1]\n",
    "        tg_y = tg_seq[:, 1:2]\n",
    "        tg_pen = tg_seq[:, 2]\n",
    "\n",
    "        tg_x_s = (tg_x - mean_x) / std_x \n",
    "        tg_y_s = (tg_y - mean_y) / std_y\n",
    "\n",
    "        z = tg_x_s**2 + tg_y_s**2 - 2*rho*tg_x_s*tg_y_s # Graves eq (25)\n",
    "        \n",
    "        if hidden_dict is not None:\n",
    "            hidden_dict[\"z\"].append(z.data.cpu())            \n",
    "\n",
    "        tmp = 1-rho**2\n",
    "        # tmp is ln (pi N(x, mu, sigma, rho)) with N as in Graves eq (24) (this is later used for eq (26))\n",
    "        mixture_part_loglikelihood = (-z / (2 * tmp) \n",
    "                              -numpy.log(2*numpy.pi) - torch.log(std_x) - torch.log(std_y) - 0.5*torch.log(tmp)\n",
    "                              +torch.log(pi))\n",
    "\n",
    "        # logsumexp over the mixture components\n",
    "        # mixture_log_likelihood the log in the first part of Graves eq (26)\n",
    "        mpl_max,_ = mixture_part_loglikelihood.max(1, keepdim=True)                                 \n",
    "        mixture_log_likelihood = (mixture_part_loglikelihood-mpl_max).exp().sum(1).log()+mpl_max.squeeze(1)\n",
    "\n",
    "        # these are the summands in Graves eq (26)\n",
    "        loss_per_timestep = (-mixture_log_likelihood - tg_pen * torch.log(bernoulli) - (1-tg_pen) * torch.log(1 - bernoulli))\n",
    "\n",
    "        if hidden_dict is not None:\n",
    "            hidden_dict[\"loss_per_timestep\"].append(loss_per_timestep.data.cpu())\n",
    "        # loss as in Graves eq (26)\n",
    "        loss = torch.sum(loss_per_timestep * mask_seq)/batch_size\n",
    "        return loss"
   ]
  },
  {
   "cell_type": "markdown",
   "metadata": {},
   "source": [
    "### Attention Mechanism\n",
    "\n",
    "Graves Section 5.1 describes a straightforward attention mechanism using a mixture-type weighting scheme and with moving modes.\n",
    "In addition to the one-hot encoded character sequence, the input for the attention mechanism is the LSTM-output $h$ and the previous time-steps mode locations $\\kappa_{t-1}^k$.\n",
    "More precisely, weights $\\phi$ are computed as\n",
    "$$\n",
    "\\phi(t, u) = \\sum_k \\alpha_t^k \\exp(-\\beta_t^k (\\kappa_t^k-u)^2)\n",
    "$$\n",
    "with $t$ being the recurrence time step, $u$ the character location and $k$ is used to sum over the components.\n",
    "Here, $\\alpha_t^k, \\beta_t^k$ and $\\kappa_t^k-\\kappa_{t-1}^k$ are positive - mapped by $\\exp$ from the output of a linear layer. For the $\\kappa_t^k$, the difference is modelled to achieve better stationarity.\n",
    "The module returns the weight vector $\\phi$ and the mode location vector $\\kappa$.\n",
    "\n",
    "Graves notes he does not normalize the weights."
   ]
  },
  {
   "cell_type": "code",
   "execution_count": 12,
   "metadata": {},
   "outputs": [],
   "source": [
    "class Attention(torch.nn.Module):\n",
    "    def __init__(self, n_inputs, n_mixture_components):\n",
    "        super().__init__()\n",
    "        self.n_mixture_components = n_mixture_components\n",
    "        # linear layer from Graves eq (28)\n",
    "        self.linear = torch.nn.Linear(n_inputs, n_mixture_components*3)\n",
    "    def forward(self, h_1, kappa_prev, c_seq_len):\n",
    "        # h_1: batch x n_inputs, kappa_prev batch x n_mixture_components\n",
    "        K = self.n_mixture_components\n",
    "        params = torch.exp(self.linear(h_1)) # exp of Graves eq (48)\n",
    "        alpha = params[:,:K]                 # Graves eq (49)\n",
    "        beta  = params[:,K:2*K]              # Graves eq (50)\n",
    "        kappa = kappa_prev + 0.1*params[:,2*K:]  # Graves eq (51)\n",
    "        u = torch.arange(0,c_seq_len, out=kappa.new()).view(-1,1,1)\n",
    "        phi = torch.sum(alpha * torch.exp(-beta*(kappa-u)**2), dim=-1)\n",
    "        return phi, kappa\n"
   ]
  },
  {
   "cell_type": "markdown",
   "metadata": {},
   "source": [
    "### LSTM\n",
    "\n",
    "In order to be able to trade the LSTM cell for a GRU, I have a thin wraper around the LSTMCell module."
   ]
  },
  {
   "cell_type": "code",
   "execution_count": 13,
   "metadata": {},
   "outputs": [],
   "source": [
    "class RNNCell(torch.nn.Module):\n",
    "    def __init__(self, input_size, hidden_size, bias=True):\n",
    "        super().__init__()\n",
    "        self.input_size = input_size\n",
    "        self.hidden_size = hidden_size\n",
    "        self.cell = torch.nn.LSTMCell(input_size, hidden_size, bias)\n",
    "    def forward(self, inp, hidden = None):\n",
    "        if hidden is None:\n",
    "            batch_size = inp.size(0)\n",
    "            hx = inp.new(batch_size, self.hidden_size).zero_()\n",
    "            cx = inp.new(batch_size, self.hidden_size).zero_()\n",
    "            hidden = (hx, cx)\n",
    "        return self.cell(inp, hidden)\n",
    "    def get_hidden(self, hidden):\n",
    "        return hidden[0]\n"
   ]
  },
  {
   "cell_type": "markdown",
   "metadata": {},
   "source": [
    "### Main Module\n",
    "\n",
    "Tying things together is the main module. It is disappointingly heavyweight given that it mostly does administraton.\n"
   ]
  },
  {
   "cell_type": "code",
   "execution_count": 14,
   "metadata": {
    "cell_id": "4AFBD0DFCE2147588AB92E4813E9041F"
   },
   "outputs": [],
   "source": [
    "class HandwritingModel(torch.nn.Module):\n",
    "    def __init__(self, n_hidden, n_chars, n_attention_components, n_gaussians, grad_clipping=10):\n",
    "        super(HandwritingModel, self).__init__()\n",
    "        self.n_hidden = n_hidden\n",
    "        self.n_chars = n_chars\n",
    "        self.n_attention_components = n_attention_components\n",
    "        self.n_gaussians = n_gaussians\n",
    "\n",
    "        self.attention = Attention(n_hidden, n_attention_components)\n",
    "        self.rnn_cell = RNNCell(3+self.n_chars, n_hidden)\n",
    "        self.grad_clipping = grad_clipping\n",
    "        self.mixture = MixtureGaussians2DandPen(n_hidden+self.n_chars, n_gaussians)\n",
    "\n",
    "    def rnn_step(self, inputs, h_state_pre, k_pre, w_pre, c, c_mask, mask=None, hidden_dict=None):\n",
    "        # inputs: (batch_size, n_in + n_in_c)\n",
    "        inputs = torch.cat([inputs, w_pre], dim=1)\n",
    "\n",
    "        # h: (batch_size, n_hidden)\n",
    "        h_state = self.rnn_cell(inputs, h_state_pre)\n",
    "        h = self.rnn_cell.get_hidden(h_state)\n",
    "        if h.requires_grad:\n",
    "            h.register_hook(lambda x: x.clamp(min=-self.grad_clipping, max=self.grad_clipping))\n",
    "            \n",
    "        # update attention\n",
    "        phi, k =  self.attention(h, k_pre, c.size(0))\n",
    "        phi = phi * c_mask\n",
    "        # w: (batch_size, n_chars)\n",
    "        w = torch.sum(phi.unsqueeze(-1) * c, dim=0)\n",
    "        if mask is not None:\n",
    "            k = mask.unsqueeze(1)*k + (1-mask.unsqueeze(1))*k_pre\n",
    "            w = mask.unsqueeze(1)*w + (1-mask.unsqueeze(1))*w_pre\n",
    "        if w.requires_grad:\n",
    "            w.register_hook(lambda x: x.clamp(min=-100, max=100))\n",
    "        return h_state, k, phi, w\n",
    "    \n",
    "    def forward(self, seq_pt, seq_mask, seq_pt_target, c, c_mask,\n",
    "                h_ini=None, k_ini=None, w_ini=None, hidden_dict=None):       \n",
    "        batch_size = seq_pt.size(1)\n",
    "        atensor = next(m.parameters())\n",
    "        \n",
    "        #if h_ini is None:\n",
    "        #    h_ini = self.mixture.linear.weight.data.new(batch_size, self.n_hidden).zero_()\n",
    "        if k_ini is None:\n",
    "            k_ini = atensor.new(batch_size, self.n_attention_components).zero_()\n",
    "        if w_ini is None:\n",
    "            w_ini = atensor.new(batch_size, self.n_chars).zero_()\n",
    "\n",
    "        # Convert the integers representing chars into one-hot encodings\n",
    "        # seq_str will have shape (seq_length, batch_size, n_chars)\n",
    "        \n",
    "        c_idx = c\n",
    "        c = c.data.new(c.size(0), c.size(1), self.n_chars).float().zero_()\n",
    "        c.scatter_(2, c_idx.view(c.size(0), c.size(1), 1), 1)\n",
    "\n",
    "        seq_h = []\n",
    "        seq_k = []\n",
    "        seq_w = []\n",
    "        seq_phi = []\n",
    "        h_state, k, w = h_ini, k_ini, w_ini\n",
    "        for inputs, mask in zip(seq_pt, seq_mask):\n",
    "            h_state, k, phi, w = self.rnn_step(inputs, h_state, k, w, c, c_mask, mask=mask, hidden_dict=hidden_dict)\n",
    "            h = self.rnn_cell.get_hidden(h_state)\n",
    "            seq_h.append(h)\n",
    "            seq_k.append(k)\n",
    "            seq_w.append(w)\n",
    "            if hidden_dict is not None:\n",
    "                seq_phi.append(phi)\n",
    "        seq_h = torch.stack(seq_h,0)\n",
    "        seq_k = torch.stack(seq_k,0)\n",
    "        seq_w = torch.stack(seq_w,0)\n",
    "        if hidden_dict is not None:\n",
    "            hidden_dict['seq_h'].append(seq_h.data.cpu())\n",
    "            hidden_dict['seq_k'].append(seq_k.data.cpu())\n",
    "            hidden_dict['seq_w'].append(seq_w.data.cpu())\n",
    "            hidden_dict['seq_phi'].append(torch.stack(seq_phi,0).data.cpu())\n",
    "        seq_hw = torch.cat([seq_h, seq_w], dim=-1)\n",
    "\n",
    "        loss = self.mixture(seq_hw, seq_mask, seq_pt_target, hidden_dict=hidden_dict)\n",
    "        return loss\n",
    "\n",
    "    def predict(self, pt_ini, seq_str, seq_str_mask,\n",
    "                   h_ini=None, k_ini=None, w_ini=None, bias=.0, n_steps=10000, hidden_dict=None):\n",
    "        # pt_ini: (batch_size, 3), seq_str: (length_str_seq, batch_size), seq_str_mask: (length_str_seq, batch_size)\n",
    "        # h_ini: (batch_size, n_hidden), k_ini: (batch_size, n_mixture_attention), w_ini: (batch_size, n_chars)\n",
    "        # bias: float    The bias that controls the variance of the generation\n",
    "        # n_steps: int   The maximal number of generation steps.\n",
    "        atensor = next(m.parameters())\n",
    "        bias = bias*torch.ones((),device=atensor.get_device(), dtype=atensor.dtype)\n",
    "        batch_size = pt_ini.size(0)\n",
    "        if k_ini is None:\n",
    "            k_ini = atensor.new(batch_size, self.n_attention_components).zero_()\n",
    "        if w_ini is None:\n",
    "            w_ini = atensor.new(batch_size, self.n_chars).zero_()\n",
    "\n",
    "        # Convert the integers representing chars into one-hot encodings\n",
    "        # seq_str will have shape (seq_length, batch_size, n_chars)\n",
    "        \n",
    "        input_seq_str = seq_str\n",
    "        seq_str = pt_ini.data.new(input_seq_str.size(0), input_seq_str.size(1), self.n_chars).float().zero_()\n",
    "        seq_str.scatter_(2, input_seq_str.data.view(seq_str.size(0), seq_str.size(1) ,1), 1)\n",
    "        seq_str = torch.autograd.Variable(seq_str)        \n",
    "\n",
    "        mask = torch.autograd.Variable(self.mixture.linear.weight.data.new(batch_size).fill_(1))\n",
    "        seq_pt = [pt_ini]\n",
    "        seq_mask = [mask]\n",
    "\n",
    "        last_char = seq_str_mask.long().sum(0)-1\n",
    "\n",
    "        pt, h_state, k, w = pt_ini, h_ini, k_ini, w_ini\n",
    "        for i in range(n_steps):\n",
    "            h_state, k, phi, w = self.rnn_step(pt, h_state, k, w, seq_str, seq_str_mask, mask=mask, hidden_dict=hidden_dict)\n",
    "            h = self.rnn_cell.get_hidden(h_state)\n",
    "            hw = torch.cat([h, w], dim=-1)\n",
    "            pt = self.mixture.predict(hw, bias)\n",
    "            seq_pt.append(pt)\n",
    "            \n",
    "            last_phi = torch.gather(phi, 0, last_char.unsqueeze(0)).squeeze(0)\n",
    "            max_phi,_ = phi.max(0)\n",
    "            mask = mask * (1-(last_phi >= 0.95*max_phi).float())\n",
    "            seq_mask.append(mask)\n",
    "            if mask.data.sum()==0:\n",
    "                break\n",
    "        seq_pt   = torch.stack(seq_pt,0)\n",
    "        seq_mask = torch.stack(seq_mask,0)\n",
    "        return seq_pt, seq_mask        \n"
   ]
  },
  {
   "cell_type": "markdown",
   "metadata": {
    "cell_id": "478F522049C049AA8B8F818CEB567B22"
   },
   "source": [
    "## Training"
   ]
  },
  {
   "cell_type": "code",
   "execution_count": 15,
   "metadata": {
    "cell_id": "998AED33563E45F78A2CE8759B69A4BF"
   },
   "outputs": [],
   "source": [
    "n_hidden = 900\n",
    "n_mixt_attention = 10\n",
    "n_mixt_output = 20\n",
    "batch_size = 50\n",
    "\n",
    "train_it, = torchtext.data.BucketIterator.splits((train_ds,), batch_size=batch_size, repeat=False)\n",
    "val_it,   = torchtext.data.BucketIterator.splits((val_ds,),   batch_size=batch_size, repeat=False)\n",
    "\n",
    "m = HandwritingModel(n_hidden, n_chars, n_mixt_attention, n_mixt_output)\n",
    "m.cuda()\n",
    "# These are based on Graves Section 4.2.\n",
    "opt = torch.optim.RMSprop(m.parameters(), lr=1e-4, eps=1e-4, alpha=0.95, momentum=0.9, centered=True) \n",
    "losses = []\n"
   ]
  },
  {
   "cell_type": "code",
   "execution_count": 17,
   "metadata": {},
   "outputs": [
    {
     "data": {
      "text/plain": [
       "Parameter containing:\n",
       "tensor([[ 0.0255,  0.0277, -0.0078,  ..., -0.0137, -0.0083, -0.0129],\n",
       "        [ 0.0300,  0.0177,  0.0301,  ..., -0.0260,  0.0260, -0.0072],\n",
       "        [-0.0187, -0.0253,  0.0195,  ..., -0.0173, -0.0155, -0.0277],\n",
       "        ...,\n",
       "        [ 0.0310, -0.0084,  0.0190,  ..., -0.0184,  0.0174, -0.0148],\n",
       "        [-0.0328,  0.0162,  0.0219,  ...,  0.0089,  0.0126,  0.0026],\n",
       "        [-0.0016, -0.0127, -0.0148,  ..., -0.0069, -0.0005,  0.0277]],\n",
       "       device='cuda:0', requires_grad=True)"
      ]
     },
     "execution_count": 17,
     "metadata": {},
     "output_type": "execute_result"
    }
   ],
   "source": [
    "next(m.parameters())"
   ]
  },
  {
   "cell_type": "markdown",
   "metadata": {},
   "source": [
    "Now the training. If you want to skip the training, skip the next cell and enable the loading below."
   ]
  },
  {
   "cell_type": "code",
   "execution_count": null,
   "metadata": {
    "cell_id": "496A24D27A3B4D938DD9629F08DAF456",
    "scrolled": true
   },
   "outputs": [
    {
     "name": "stdout",
     "output_type": "stream",
     "text": [
      "smoothloss -299.7712777709961\n"
     ]
    },
    {
     "data": {
      "image/png": "[encoded data removed]",
      "text/plain": [
       "<Figure size 1080x360 with 2 Axes>"
      ]
     },
     "metadata": {
      "needs_background": "light"
     },
     "output_type": "display_data"
    },
    {
     "name": "stdout",
     "output_type": "stream",
     "text": [
      "time per minibatch 3.461530828475952\n",
      "0 / 180 (of 208) : -281.6153564453125\n"
     ]
    }
   ],
   "source": [
    "for epoch in range(50):\n",
    "    lasttime = time.time()\n",
    "    lastbatch = -1\n",
    "    epochstart = lasttime\n",
    "    for batch,i in enumerate(train_it):\n",
    "        #i_seq_pt, i_seq_tg, i_seq_mask, i_seq_str, i_seq_str_mask = [torch.autograd.Variable(torch.from_numpy(i).cuda()) for i in inputs]\n",
    "        #i_seq_str = i_seq_str.long()\n",
    "        i_seq_pt = torch.stack([i.xs, i.ys, i.pen.float()], dim=2).cuda()\n",
    "        i_seq_tg = i_seq_pt[1:].cuda()\n",
    "        i_seq_pt = i_seq_pt[:-1].cuda()\n",
    "        i_seq_mask = (i.pen[:-1]>=0).float().cuda()\n",
    "        i_seq_str = i.txtn.cuda()\n",
    "        i_seq_str_mask = i.txtmask.cuda()\n",
    "        \n",
    "        opt.zero_grad()\n",
    "        res = m(i_seq_pt, i_seq_mask, i_seq_tg, i_seq_str, i_seq_str_mask)\n",
    "        res.backward()\n",
    "        losses.append(res.data)\n",
    "        if batch % 10 == 0:\n",
    "            losses = [float(l) for l in losses]\n",
    "            IPython.display.clear_output(wait=True)\n",
    "            pyplot.figure(figsize=(15,5))\n",
    "            pyplot.subplot(1,2,1)\n",
    "            pyplot.plot(losses)\n",
    "            if len(losses)>=50:\n",
    "                smoothed = (numpy.convolve(losses,numpy.ones(50)/50,'valid'))\n",
    "                pyplot.plot(numpy.arange(len(losses)-len(smoothed),len(losses)),smoothed)\n",
    "                print (\"smoothloss\", smoothed[-1])\n",
    "            pyplot.subplot(1,2,2)\n",
    "            with torch.no_grad():\n",
    "                i_seq_str = torch.autograd.Variable(torch.LongTensor([int(char_dict[c]) for c in \"Die Katzen von Kopenhagen. \"]).view(-1,1).cuda())\n",
    "                i_seq_str_mask = torch.autograd.Variable(torch.ones(i_seq_str.size()).cuda())\n",
    "                seq_pt, seq_mask = m.predict(i_seq_pt[0,:1], i_seq_str, i_seq_str_mask, bias=0.8)\n",
    "                lengths = seq_mask.sum(0).data.long()\n",
    "                idx = 0\n",
    "                show_stroke(seq_pt.data.cpu()[:lengths[idx],idx])\n",
    "                #''.join([inv_char_dict[c] for c in i_seq_str.data.cpu()[:,idx]])\n",
    "            pyplot.show()\n",
    "            print (\"time per minibatch\",(time.time()-lasttime)/(batch-lastbatch))\n",
    "            lastbatch = batch\n",
    "            lasttime = time.time()\n",
    "            print (epoch,'/', batch,'(of 208) :', res.item())\n",
    "\n",
    "        torch.nn.utils.clip_grad_norm(m.parameters(),5)\n",
    "        opt.step()\n",
    "    print (\"epoch\", epoch, \"took\", time.time()-epochstart, \"seconds\")\n"
   ]
  },
  {
   "cell_type": "markdown",
   "metadata": {},
   "source": [
    "Sometimes I miss the output above, so here is the loss graph again."
   ]
  },
  {
   "cell_type": "code",
   "execution_count": null,
   "metadata": {
    "cell_id": "E210C2A610FE401A924EA97DC8998CB4"
   },
   "outputs": [],
   "source": [
    "IPython.display.clear_output(wait=True)\n",
    "pyplot.plot(numpy.fmin(losses,3000))\n",
    "if len(losses)>=50:\n",
    "    smoothed = (numpy.convolve(losses,numpy.ones(50)/50,'valid'))\n",
    "    pyplot.plot(numpy.arange(len(losses)-len(smoothed),len(losses)),numpy.fmin(smoothed,3000))\n",
    "    print (\"smoothloss\", smoothed[-1])\n",
    "pyplot.show()\n",
    "print (epoch,'/', batch,'(of 208) :', res.item())            \n"
   ]
  },
  {
   "cell_type": "markdown",
   "metadata": {},
   "source": [
    "We can evaluate the negative log likelihood on the validation set. We should reach the same ballpark as Graves, who reports -1096.9 for the non-adaptive weight noise, albeit for a three-layer network) in Table 4."
   ]
  },
  {
   "cell_type": "code",
   "execution_count": null,
   "metadata": {},
   "outputs": [],
   "source": [
    "with torch.no_grad():\n",
    "    totalweight = 0.0\n",
    "    totalweightedloss = 0.0\n",
    "    for i in tqdm.tqdm(val_it): #, total=len(val_it)):\n",
    "        i_seq_pt = torch.stack([i.xs, i.ys, i.pen.float()], dim=2)\n",
    "        i_seq_tg = i_seq_pt[1:]\n",
    "        i_seq_pt = i_seq_pt[:-1]\n",
    "        i_seq_mask = (i.pen[:-1]>=0).float()\n",
    "        i_seq_str = i.txtn\n",
    "        i_seq_str_mask = i.txtmask\n",
    "        loss = m(i_seq_pt, i_seq_mask, i_seq_tg, i_seq_str, i_seq_str_mask).item()\n",
    "        lossweight = i.batch_size/val_it.batch_size\n",
    "        totalweight += lossweight\n",
    "        totalweightedloss += loss*lossweight\n",
    "print(\"Negative log likelihood on validation set\", totalweightedloss/totalweight)\n"
   ]
  },
  {
   "cell_type": "markdown",
   "metadata": {},
   "source": [
    "If you want, you can load and save the model with the code below. It is more customary to use torch.save, but sometimes I like to save the weights only."
   ]
  },
  {
   "cell_type": "code",
   "execution_count": null,
   "metadata": {},
   "outputs": [],
   "source": [
    "import h5py\n",
    "def save_to_hdf5(fn, d):\n",
    "    f = h5py.File(fn, \"w\")\n",
    "    for k,v in d.items():\n",
    "        f.create_dataset(k, data=v)\n",
    "def load_from_hdf5(fn):\n",
    "    f = h5py.File(fn, \"r\")\n",
    "    print (list(f.keys()))\n",
    "    return {k:v[:] for k,v in f.items()}\n",
    "\n",
    "if 0:\n",
    "    save_to_hdf5(\"graves_handwriting_generation_\"+time.strftime(\"%Y-%m-%d-%H-%M\",time.localtime())+\"epoch_{}\".format(epoch)+\".hd5\", {n:p.data.cpu().numpy() for n,p in m.named_parameters()})\n",
    "if 0:\n",
    "    d =load_from_hdf5(\"graves_handwriting_generation_2018-03-13-02-45epoch_49.hd5\")\n",
    "    for n,p in m.named_parameters():\n",
    "        p.data.copy_(torch.from_numpy(d[n]))"
   ]
  },
  {
   "cell_type": "markdown",
   "metadata": {},
   "source": [
    "## Visual model evaluation\n",
    "\n",
    "Nw that we have a model, we may show some samples.\n",
    "First we use the bias parameter as Graves describes in Section 5.4 and shows in Figure 16."
   ]
  },
  {
   "cell_type": "code",
   "execution_count": null,
   "metadata": {},
   "outputs": [],
   "source": [
    "for bias in [0,2,2,2,5,5,5,100,100,100]:\n",
    "    with torch.no_grad():\n",
    "        i = next(iter(train_it))\n",
    "        i_seq_pt = torch.stack([i.xs, i.ys, i.pen.float()], dim=2)\n",
    "        i_seq_pt = i_seq_pt[:-1]\n",
    "\n",
    "        i_seq_str = torch.autograd.Variable(torch.LongTensor([int(char_dict[c]) for c in \"Die Katzen von Kopenhagen. \"]).view(-1,1).cuda())\n",
    "        i_seq_str_mask = torch.autograd.Variable(torch.ones(i_seq_str.size()).cuda())\n",
    "        seq_pt, seq_mask = m.predict(i_seq_pt[0,:1], i_seq_str, i_seq_str_mask, bias=bias)\n",
    "        lengths = seq_mask.sum(0).data.long()\n",
    "        idx = 0\n",
    "        pyplot.figure(figsize=(10,2))\n",
    "        show_stroke(seq_pt.data.cpu()[:lengths[idx],idx])\n",
    "        #''.join([inv_char_dict[c] for c in i_seq_str.data.cpu()[:,idx]])\n",
    "        pyplot.title(\"bias={}\".format(bias))\n",
    "        pyplot.show()\n"
   ]
  },
  {
   "cell_type": "markdown",
   "metadata": {},
   "source": [
    "Note that even with an extreme bias, the generated writing is not identical. This is in contrast to Graves' observation in Figure 16. I tentatively believe this is due to several modes sharing the top spot for the weights (e.g. two having mass almost exactly 0.5). Also the pen write vs. move probability is not biased."
   ]
  },
  {
   "cell_type": "markdown",
   "metadata": {
    "cell_id": "4F00536FD70B4DDA8447E83163E4E4AD"
   },
   "source": [
    "### Model internal state\n",
    "\n",
    "In Order to look at model internals, we can a pass a Python defaultdict to the model."
   ]
  },
  {
   "cell_type": "code",
   "execution_count": null,
   "metadata": {},
   "outputs": [],
   "source": [
    "d = collections.defaultdict(list)\n",
    "with torch.no_grad():\n",
    "        i = next(iter(train_it))\n",
    "        i_seq_pt = torch.stack([i.xs, i.ys, i.pen.float()], dim=2)\n",
    "        i_seq_tg = i_seq_pt[1:]\n",
    "        i_seq_pt = i_seq_pt[:-1]\n",
    "        i_seq_mask = (i.pen[:-1]>=0).float()\n",
    "        i_seq_str = i.txtn\n",
    "        i_seq_str_mask = i.txtmask\n",
    "        \n",
    "        opt.zero_grad()\n",
    "        res = m(i_seq_pt, i_seq_mask, i_seq_tg, i_seq_str, i_seq_str_mask, hidden_dict=d)\n",
    "d.keys()"
   ]
  },
  {
   "cell_type": "code",
   "execution_count": null,
   "metadata": {},
   "outputs": [],
   "source": [
    "\n"
   ]
  },
  {
   "cell_type": "code",
   "execution_count": null,
   "metadata": {},
   "outputs": [],
   "source": [
    "idx=1\n",
    "this_batch_size = i_seq_pt.size(1)\n",
    "pts = i_seq_pt[:i.ptslen[0,idx],idx].cpu()\n",
    "pts_len = i.ptslen[0,idx]\n",
    "mean_y = d['mean_y'][0].view(-1,this_batch_size, d['mean_y'][0].size(1))[:pts_len,idx]*train_ds.coord_std[1]+train_ds.coord_mean[1]\n",
    "mean_x = d['mean_x'][0].view(-1,this_batch_size, d['mean_x'][0].size(1))[:pts_len,idx]*train_ds.coord_std[0]+train_ds.coord_mean[0]\n",
    "pi   = d['pi'][0].view(-1,this_batch_size, d['pi'][0].size(1))[:pts_len,idx]\n"
   ]
  },
  {
   "cell_type": "markdown",
   "metadata": {},
   "source": [
    "The weights of the probabilities look reasonably similar to Graves Figure 14 in that we movements within strokes and in between being sampled from different mixture components."
   ]
  },
  {
   "cell_type": "code",
   "execution_count": null,
   "metadata": {},
   "outputs": [],
   "source": [
    "pyplot.figure(figsize=(15,5))\n",
    "pyplot.imshow(pi.t(), aspect='auto')\n",
    "#pts = torch.stack([i.xs,i.ys,i.pen.float()],dim=-1)\n",
    "pyplot.figure(figsize=(15,5))\n",
    "show_stroke(pts)\n",
    "txt = train_ds.tensor_to_str(i.txt[:i.txtlen[0,idx],idx])\n",
    "txt"
   ]
  },
  {
   "cell_type": "markdown",
   "metadata": {},
   "source": [
    "Next we want to visualize the probability distributions for the points."
   ]
  },
  {
   "cell_type": "code",
   "execution_count": null,
   "metadata": {},
   "outputs": [],
   "source": [
    "def show_mixture_of_normals(x, y, sx, sy, rho, weights):\n",
    "    x = x.view(1,1,-1)\n",
    "    y = y.view(1,1,-1)\n",
    "    sx = sx.view(1,1,-1)\n",
    "    sy = sy.view(1,1,-1)\n",
    "    rho = rho.view(1,1,-1)\n",
    "    weights = weights.view(1,1,-1)\n",
    "    xmin, ymin = x.min(), y.min()\n",
    "    xmax, ymax = x.max(), y.max()\n",
    "    NX, NY = 1000, 70\n",
    "    xx = torch.arange(0., NX).view(1,-1,1)*(xmax-xmin)/NX+xmin\n",
    "    yy = torch.arange(0., NY).view(-1,1,1)*(ymax-ymin)/NY+ymin\n",
    "    x_s = (x-xx)/sx\n",
    "    y_s = (y-yy)/sy\n",
    "    tmp = 1-rho**2\n",
    "    log_dens = -(x_s**2+y_s**2-2*rho*x_s*y_s)/(2*tmp)-numpy.log(2*numpy.pi)-torch.log(sx)- torch.log(sy) - 0.5*torch.log(tmp)\n",
    "    dens = (weights*torch.exp(log_dens)).sum(-1)\n",
    "    pyplot.imshow(dens**0.25, aspect='auto') # note: the **0.25 is only for the color mapping\n",
    "\n",
    "\n",
    "idx=1\n",
    "this_batch_size = i_seq_pt.size(1)\n",
    "pts = i_seq_pt[:i.ptslen[0,idx],idx].cpu()\n",
    "pts_len = i.ptslen[0,idx]\n",
    "cut_pts_len = min(pts_len, 100)\n",
    "mean_x = d['mean_x'][0].view(-1,this_batch_size, d['mean_x'][0].size(1))[:cut_pts_len,idx]*train_ds.coord_std[0]+train_ds.coord_mean[0]\n",
    "mean_y = d['mean_y'][0].view(-1,this_batch_size, d['mean_y'][0].size(1))[:cut_pts_len,idx]*train_ds.coord_std[1]+train_ds.coord_mean[1]\n",
    "std_x  = d['std_x'][0].view(-1,this_batch_size,  d['std_x'][0].size(1))[:cut_pts_len,idx]*train_ds.coord_std[0]\n",
    "std_y  = d['std_y'][0].view(-1,this_batch_size,  d['std_y'][0].size(1))[:cut_pts_len,idx]*train_ds.coord_std[1]\n",
    "pi     = d['pi'][0].view(-1,this_batch_size,  d['pi'][0].size(1))[:cut_pts_len,idx].contiguous()\n",
    "rho    = d['rho'][0].view(-1,this_batch_size, d['rho'][0].size(1))[:cut_pts_len,idx].contiguous()\n",
    "_,maxidx = pi.max(1)\n",
    "offset_x = torch.cat([torch.zeros(1),mean_x[torch.arange(0,len(mean_x), out=torch.LongTensor()), maxidx].cumsum(0)[:-1]],0)\n",
    "offset_y = torch.cat([torch.zeros(1),mean_y[torch.arange(0,len(mean_y), out=torch.LongTensor()), maxidx].cumsum(0)[:-1]],0)\n",
    "\n",
    "if 0:\n",
    "    NP = 10\n",
    "    x = torch.randn(NP)\n",
    "    y = torch.randn(NP)\n",
    "    sx = torch.exp(-1.5+0.5*torch.randn(NP))\n",
    "    sy = torch.exp(-1.5+0.5*torch.randn(NP))\n",
    "    rho = torch.zeros(NP)\n",
    "    weights = torch.ones(NP)\n",
    "pyplot.figure(figsize=(15,5))\n",
    "show_mixture_of_normals(mean_x+offset_x.unsqueeze(1), mean_y+offset_y.unsqueeze(1), std_x, std_y, rho, pi)\n"
   ]
  },
  {
   "cell_type": "markdown",
   "metadata": {},
   "source": [
    "In contrast to Figure 14 in Graves, we do not see that much of the increased uncertainty (but note with Graves that in Figure 14 the uncertainty is much smaller for the moves to a new stroke than in the non-conditioned output of Figure 10). This may mean our model is overfitting more than his. Graves uses regularisation with adaptive weighted noise which - to the best of my understanding - is very similar to the recently more popular Bayesian Variational Inference scheme.\n"
   ]
  },
  {
   "cell_type": "markdown",
   "metadata": {},
   "source": [
    "We can also recreate figure 13. To illustrate which character is dominant in the attention mechanism, we color the strokes accordingly. (I first saw colored strokes at [David Ha aka Hardmaru's blog](http://blog.otoro.net/2015/12/12/handwriting-generation-demo-in-tensorflow/), but at first glance he seems to color strokes, but we colorcode the attentention on chars.) It seems that the model looks at the next character quite early."
   ]
  },
  {
   "cell_type": "code",
   "execution_count": null,
   "metadata": {},
   "outputs": [],
   "source": [
    "seq_phi  = d['seq_phi'][0][:pts_len,:, idx]\n",
    "pyplot.figure(figsize=(15,5))\n",
    "pyplot.imshow(d['seq_phi'][0][:pts_len,:, idx].t(), aspect=\"auto\")\n",
    "ax = pyplot.gca()\n",
    "ax.set_yticks(range(i.txtlen[0,idx].item()))\n",
    "ax.set_yticklabels(list(txt))\n",
    "pyplot.figure(figsize=(15,2))\n",
    "colorlist = [pyplot.cm.jet(int(5*i/(seq_phi.size(1)-1)*(pyplot.cm.jet.N-1))%256) for i in range(seq_phi.size(1))]\n",
    "colors = [colorlist[c] for c in seq_phi.max(1)[1].tolist()]\n",
    "show_stroke(pts, colors)"
   ]
  },
  {
   "cell_type": "markdown",
   "metadata": {},
   "source": [
    "I hope you enjoyed the exploration of Graves' classic model as much as I did writing it.\n",
    "\n",
    "Feedback and corrections are always welcome at <tv@lernapparat.de>, I read and appreciate every mail.\n",
    "\n",
    "*Thomas Viehmann*"
   ]
  },
  {
   "cell_type": "code",
   "execution_count": null,
   "metadata": {},
   "outputs": [],
   "source": []
  }
 ],
 "metadata": {
  "kernelspec": {
   "display_name": "Python 3",
   "language": "python",
   "name": "python3"
  },
  "language_info": {
   "codemirror_mode": {
    "name": "ipython",
    "version": 3
   },
   "file_extension": ".py",
   "mimetype": "text/x-python",
   "name": "python",
   "nbconvert_exporter": "python",
   "pygments_lexer": "ipython3",
   "version": "3.7.3"
  }
 },
 "nbformat": 4,
 "nbformat_minor": 4
}
