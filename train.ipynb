{
 "cells": [
  {
   "cell_type": "markdown",
   "metadata": {},
   "source": [
    "# Train Model"
   ]
  },
  {
   "cell_type": "code",
   "execution_count": 6,
   "metadata": {},
   "outputs": [],
   "source": [
    "import model\n",
    "\n",
    "n_hidden = 900\n",
    "n_mixt_attention = 10\n",
    "n_mixt_output = 20\n",
    "batch_size = 50\n",
    "\n",
    "char_dict = {k:v for v,k in enumerate(' !\"#%&\\'()+,-./0123456789:;?ABCDEFGHIJKLMNOPQRSTUVWXYZ[]abcdefghijklmnopqrstuvwxyz')}\n",
    "inv_char_dict = {v:k for k,v in char_dict.items()}\n",
    "n_chars = len(char_dict)"
   ]
  },
  {
   "cell_type": "code",
   "execution_count": 7,
   "metadata": {},
   "outputs": [],
   "source": [
    "handwriting_gen = model.HandwritingModel(n_hidden, n_chars, n_mixt_attention, n_mixt_output)"
   ]
  },
  {
   "cell_type": "code",
   "execution_count": 8,
   "metadata": {},
   "outputs": [
    {
     "data": {
      "text/plain": [
       "HandwritingModel(\n",
       "  (attention): Attention(\n",
       "    (linear): Linear(in_features=900, out_features=30, bias=True)\n",
       "  )\n",
       "  (rnn_cell): RNNCell(\n",
       "    (cell): LSTMCell(84, 900)\n",
       "  )\n",
       "  (mixture): MixtureGaussians2DandPen(\n",
       "    (linear): Linear(in_features=981, out_features=121, bias=True)\n",
       "  )\n",
       ")"
      ]
     },
     "execution_count": 8,
     "metadata": {},
     "output_type": "execute_result"
    }
   ],
   "source": [
    "handwriting_gen"
   ]
  },
  {
   "cell_type": "code",
   "execution_count": null,
   "metadata": {},
   "outputs": [],
   "source": []
  }
 ],
 "metadata": {
  "kernelspec": {
   "display_name": "Python 3",
   "language": "python",
   "name": "python3"
  },
  "language_info": {
   "codemirror_mode": {
    "name": "ipython",
    "version": 3
   },
   "file_extension": ".py",
   "mimetype": "text/x-python",
   "name": "python",
   "nbconvert_exporter": "python",
   "pygments_lexer": "ipython3",
   "version": "3.7.3"
  }
 },
 "nbformat": 4,
 "nbformat_minor": 4
}
