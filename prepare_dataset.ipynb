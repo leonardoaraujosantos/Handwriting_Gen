{
 "cells": [
  {
   "cell_type": "markdown",
   "metadata": {},
   "source": [
    "# Prepare IAM Dataset"
   ]
  },
  {
   "cell_type": "code",
   "execution_count": 1,
   "metadata": {},
   "outputs": [],
   "source": [
    "import numpy as np\n",
    "import os\n",
    "import torch\n",
    "import torchtext\n",
    "from matplotlib import pyplot\n",
    "iam_dir = \"data/iam/\"\n",
    "char_dict = {k:v for v,k in enumerate(' !\"#%&\\'()+,-./0123456789:;?ABCDEFGHIJKLMNOPQRSTUVWXYZ[]abcdefghijklmnopqrstuvwxyz')}\n",
    "inv_char_dict = {v:k for k,v in char_dict.items()}\n",
    "n_chars = len(char_dict)\n",
    "import utils_iam"
   ]
  },
  {
   "cell_type": "code",
   "execution_count": 2,
   "metadata": {},
   "outputs": [],
   "source": [
    "orig_trainset = [l.strip() for l in open(os.path.join(iam_dir, \"trainset.txt\"))]\n",
    "orig_testset_v = [l.strip() for l in open(os.path.join(iam_dir, \"testset_v.txt\"))] # smallest\n",
    "orig_testset_f = [l.strip() for l in open(os.path.join(iam_dir, \"testset_f.txt\"))]\n",
    "orig_testset_t = [l.strip() for l in open(os.path.join(iam_dir, \"testset_t.txt\"))]\n",
    "\n",
    "trainset = orig_trainset + orig_testset_f + orig_testset_t\n",
    "validset = orig_testset_v"
   ]
  },
  {
   "cell_type": "code",
   "execution_count": 3,
   "metadata": {},
   "outputs": [
    {
     "name": "stderr",
     "output_type": "stream",
     "text": [
      "100%|██████████| 1535/1535 [00:46<00:00, 33.28it/s]\n",
      "100%|██████████| 192/192 [00:06<00:00, 29.36it/s]\n"
     ]
    }
   ],
   "source": [
    "training_samples = utils_iam.process_set(trainset, iam_dir)\n",
    "#torch.save(training_samples, \"preprocessed-training.pt\")\n",
    "val_samples = utils_iam.process_set(validset, iam_dir)\n",
    "#torch.save(val_samples, \"preprocessed-validation.pt\")"
   ]
  },
  {
   "cell_type": "markdown",
   "metadata": {},
   "source": [
    "#### Get Mean and Standard deviation"
   ]
  },
  {
   "cell_type": "code",
   "execution_count": 4,
   "metadata": {},
   "outputs": [
    {
     "name": "stdout",
     "output_type": "stream",
     "text": [
      "mean tensor([8.1842, 0.1145]) std tensor([40.3660, 37.0441])\n"
     ]
    }
   ],
   "source": [
    "x = torch.cat([d[\"rel_strokes\"] for d in training_samples.values()], dim=0)\n",
    "mean,std = x[:,:2].mean(0),x[:,:2].std(0)\n",
    "print (\"mean\", mean, \"std\", std)"
   ]
  },
  {
   "cell_type": "markdown",
   "metadata": {},
   "source": [
    "#### Process Data\n",
    "We use a torchtext dataset to use our preprocessed IAM online handwriting data."
   ]
  },
  {
   "cell_type": "code",
   "execution_count": 5,
   "metadata": {},
   "outputs": [],
   "source": [
    "class DS(torchtext.data.Dataset):\n",
    "    def __init__(self, samples, mean, std):\n",
    "        self.myfields = [('txt',torchtext.data.Field(use_vocab=True,tokenize=list, eos_token='<eos>')), \n",
    "                         ('txtn',torchtext.data.Field(use_vocab=False,pad_token=0)), \n",
    "                         ('txtlen',torchtext.data.Field(use_vocab=False)),\n",
    "                         ('txtmask',torchtext.data.Field(use_vocab=False,pad_token=0, dtype=torch.float)),\n",
    "                         ('xs',torchtext.data.Field(use_vocab=False, pad_token=-1, dtype=torch.float)),\n",
    "                         ('ys',torchtext.data.Field(use_vocab=False, pad_token=-1, dtype=torch.float)),\n",
    "                         ('pen',torchtext.data.Field(use_vocab=False,pad_token=-1)),\n",
    "                         ('ptslen',torchtext.data.Field(use_vocab=False))\n",
    "                        ]\n",
    "        self.coord_mean = mean\n",
    "        self.coord_std  = std\n",
    "        examples = []\n",
    "        for s in samples.values():\n",
    "            txt = [c for c in s[\"txt\"] if c in char_dict]\n",
    "            txtn = torch.LongTensor([char_dict[i] for i in txt])\n",
    "            txtlen = torch.LongTensor([len(txt)])\n",
    "            txtmask = torch.ones(len(txt))\n",
    "            stroke = s['rel_strokes']\n",
    "            xs = stroke[:,0]\n",
    "            ys = stroke[:,1]\n",
    "            pen = stroke[:,2]\n",
    "            ptslen = torch.LongTensor([len(pen)])\n",
    "            if xs.abs().max()<1000 and ys.abs().max()<1000 and len(txt)>=20:\n",
    "                xs = (xs-self.coord_mean[0])/self.coord_std[0]\n",
    "                ys = (ys-self.coord_mean[1])/self.coord_std[1]\n",
    "                examples.append(torchtext.data.Example.fromlist([txt, txtn, txtlen, txtmask,\n",
    "                                                            xs, ys, pen, ptslen\n",
    "                                                            ], self.myfields))        \n",
    "        super(DS, self).__init__(examples, self.myfields)\n",
    "        self.myfields[0][1].build_vocab(self)\n",
    "    def sort_key(self, ex):\n",
    "        return len(ex.txt)\n",
    "    def tensor_to_str(self,t):\n",
    "        return ''.join([self.fields['txt'].vocab.itos[c] for c in t if c >= 3])\n",
    "    def tensor_to_str2(self,t):\n",
    "        return ''.join([inv_char_dict[c] for c in t])"
   ]
  },
  {
   "cell_type": "markdown",
   "metadata": {},
   "source": [
    "#### Load training/validation"
   ]
  },
  {
   "cell_type": "code",
   "execution_count": 6,
   "metadata": {},
   "outputs": [],
   "source": [
    "train_ds = DS(training_samples, mean, std)\n",
    "val_ds   = DS(val_samples, mean, std)\n",
    "\n",
    "train_it, = torchtext.data.BucketIterator.splits((train_ds,), batch_size=10, repeat=False)\n",
    "val_it,   = torchtext.data.BucketIterator.splits((val_ds,),   batch_size=10, repeat=False)"
   ]
  },
  {
   "cell_type": "code",
   "execution_count": 7,
   "metadata": {},
   "outputs": [
    {
     "data": {
      "text/plain": [
       "'Mr . Macleod went on with the conference'"
      ]
     },
     "execution_count": 7,
     "metadata": {},
     "output_type": "execute_result"
    },
    {
     "data": {
      "image/png": "[encoded data removed]",
      "text/plain": [
       "<Figure size 720x360 with 1 Axes>"
      ]
     },
     "metadata": {
      "needs_background": "light"
     },
     "output_type": "display_data"
    }
   ],
   "source": [
    "b = train_ds[1]\n",
    "pts = torch.stack([b.xs,b.ys,b.pen.float()],dim=-1)\n",
    "pyplot.figure(figsize=(10,5))\n",
    "pyplot.imshow(utils_iam.stroke_to_image(pts[:b.ptslen[0]].cpu()), cmap=pyplot.cm.gray)\n",
    "''.join(b.txt)"
   ]
  },
  {
   "cell_type": "code",
   "execution_count": 8,
   "metadata": {},
   "outputs": [
    {
     "name": "stdout",
     "output_type": "stream",
     "text": [
      "HandwritingModel(\n",
      "  (attention): Attention(\n",
      "    (linear): Linear(in_features=900, out_features=30, bias=True)\n",
      "  )\n",
      "  (rnn_cell): RNNCell(\n",
      "    (cell): LSTMCell(84, 900)\n",
      "  )\n",
      "  (mixture): MixtureGaussians2DandPen(\n",
      "    (linear): Linear(in_features=981, out_features=121, bias=True)\n",
      "  )\n",
      ")\n"
     ]
    }
   ],
   "source": [
    "import model\n",
    "n_hidden = 900\n",
    "n_mixt_attention = 10\n",
    "n_mixt_output = 20\n",
    "batch_size = 50\n",
    "\n",
    "handwriting_gen = model.HandwritingModel(n_hidden, n_chars, n_mixt_attention, n_mixt_output)\n",
    "print(handwriting_gen)"
   ]
  },
  {
   "cell_type": "code",
   "execution_count": 12,
   "metadata": {},
   "outputs": [
    {
     "name": "stdout",
     "output_type": "stream",
     "text": [
      "['attention.linear.bias', 'attention.linear.weight', 'mixture.linear.bias', 'mixture.linear.weight', 'rnn_cell.cell.bias_hh', 'rnn_cell.cell.bias_ih', 'rnn_cell.cell.weight_hh', 'rnn_cell.cell.weight_ih']\n"
     ]
    },
    {
     "data": {
      "text/plain": [
       "HandwritingModel(\n",
       "  (attention): Attention(\n",
       "    (linear): Linear(in_features=900, out_features=30, bias=True)\n",
       "  )\n",
       "  (rnn_cell): RNNCell(\n",
       "    (cell): LSTMCell(84, 900)\n",
       "  )\n",
       "  (mixture): MixtureGaussians2DandPen(\n",
       "    (linear): Linear(in_features=981, out_features=121, bias=True)\n",
       "  )\n",
       ")"
      ]
     },
     "execution_count": 12,
     "metadata": {},
     "output_type": "execute_result"
    }
   ],
   "source": [
    "weights = utils_iam.load_from_hdf5('pretrained_weights/graves_handwriting_generation_2018-03-13-02-45epoch_49.hd5')\n",
    "for n,p in handwriting_gen.named_parameters():\n",
    "        p.data.copy_(torch.from_numpy(weights[n]))\n",
    "handwriting_gen.cuda()"
   ]
  },
  {
   "cell_type": "code",
   "execution_count": 23,
   "metadata": {},
   "outputs": [
    {
     "data": {
      "image/png": "[encoded data removed]",
      "text/plain": [
       "<Figure size 720x144 with 1 Axes>"
      ]
     },
     "metadata": {
      "needs_background": "light"
     },
     "output_type": "display_data"
    }
   ],
   "source": [
    "i = next(iter(train_it))\n",
    "i_seq_pt = torch.stack([i.xs, i.ys, i.pen.float()], dim=2).cuda()\n",
    "i_seq_pt = i_seq_pt[:-1].cuda()\n",
    "i_seq_str = torch.autograd.Variable(torch.LongTensor([int(char_dict[c]) for c in \"Leonardo \"]).view(-1,1).cuda())\n",
    "i_seq_str_mask = torch.autograd.Variable(torch.ones(i_seq_str.size()).cuda())\n",
    "seq_pt, seq_mask = handwriting_gen.predict(i_seq_pt[0,:1], i_seq_str, i_seq_str_mask, bias=50)\n",
    "\n",
    "lengths = seq_mask.sum(0).data.long()\n",
    "idx = 0\n",
    "pyplot.figure(figsize=(10,2))\n",
    "utils_iam.show_stroke(seq_pt.data.cpu()[:lengths[idx],idx])\n",
    "#''.join([inv_char_dict[c] for c in i_seq_str.data.cpu()[:,idx]])\n",
    "pyplot.show()"
   ]
  },
  {
   "cell_type": "code",
   "execution_count": null,
   "metadata": {},
   "outputs": [],
   "source": []
  }
 ],
 "metadata": {
  "kernelspec": {
   "display_name": "Python 3",
   "language": "python",
   "name": "python3"
  },
  "language_info": {
   "codemirror_mode": {
    "name": "ipython",
    "version": 3
   },
   "file_extension": ".py",
   "mimetype": "text/x-python",
   "name": "python",
   "nbconvert_exporter": "python",
   "pygments_lexer": "ipython3",
   "version": "3.7.3"
  }
 },
 "nbformat": 4,
 "nbformat_minor": 4
}
